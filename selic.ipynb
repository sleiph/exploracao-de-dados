{
  "nbformat": 4,
  "nbformat_minor": 0,
  "metadata": {
    "colab": {
      "name": "selic.ipynb",
      "provenance": [],
      "collapsed_sections": [],
      "mount_file_id": "1bzJC8ce8vttaLLn8k_R1rFTzEwSzNfyj",
      "authorship_tag": "ABX9TyMH+d4VUntU13fRyzv7KQdF",
      "include_colab_link": true
    },
    "kernelspec": {
      "name": "python3",
      "display_name": "Python 3"
    }
  },
  "cells": [
    {
      "cell_type": "markdown",
      "metadata": {
        "id": "view-in-github",
        "colab_type": "text"
      },
      "source": [
        "<a href=\"https://colab.research.google.com/github/sleiph/exploracao-de-dados/blob/main/selic.ipynb\" target=\"_parent\"><img src=\"https://colab.research.google.com/assets/colab-badge.svg\" alt=\"Open In Colab\"/></a>"
      ]
    },
    {
      "cell_type": "markdown",
      "metadata": {
        "id": "GELBCKLu5uc1"
      },
      "source": [
        "# Taxa de juros - Selic"
      ]
    },
    {
      "cell_type": "code",
      "metadata": {
        "id": "0N5htKC1JKMq"
      },
      "source": [
        "# imports\r\n",
        "import pandas as pd\r\n",
        "import numpy as np\r\n",
        "import matplotlib.pyplot as plt\r\n",
        "import seaborn as sns\r\n",
        "\r\n",
        "## lendo os dados do yahoo\r\n",
        "from pandas_datareader import data as web"
      ],
      "execution_count": 2,
      "outputs": []
    },
    {
      "cell_type": "code",
      "metadata": {
        "id": "7jeh5ctvm0qw"
      },
      "source": [
        "# https://dados.gov.br/dataset/11-taxa-de-juros-selic\r\n",
        "\r\n",
        "selic = pd.read_csv('http://api.bcb.gov.br/dados/serie/bcdata.sgs.11/dados?formato=csv', delimiter=';', decimal=\",\")"
      ],
      "execution_count": 3,
      "outputs": []
    },
    {
      "cell_type": "code",
      "metadata": {
        "id": "WtA7m8CIwmNS"
      },
      "source": [
        "selic['data'] = pd.to_datetime(selic['data'], format='%d/%m/%Y')"
      ],
      "execution_count": 4,
      "outputs": []
    },
    {
      "cell_type": "code",
      "metadata": {
        "colab": {
          "base_uri": "https://localhost:8080/",
          "height": 419
        },
        "id": "1PjVIDwZ3CBG",
        "outputId": "899cc673-4d56-43d8-8d74-20dbd45fc5bc"
      },
      "source": [
        "selic"
      ],
      "execution_count": 5,
      "outputs": [
        {
          "output_type": "execute_result",
          "data": {
            "text/html": [
              "<div>\n",
              "<style scoped>\n",
              "    .dataframe tbody tr th:only-of-type {\n",
              "        vertical-align: middle;\n",
              "    }\n",
              "\n",
              "    .dataframe tbody tr th {\n",
              "        vertical-align: top;\n",
              "    }\n",
              "\n",
              "    .dataframe thead th {\n",
              "        text-align: right;\n",
              "    }\n",
              "</style>\n",
              "<table border=\"1\" class=\"dataframe\">\n",
              "  <thead>\n",
              "    <tr style=\"text-align: right;\">\n",
              "      <th></th>\n",
              "      <th>data</th>\n",
              "      <th>valor</th>\n",
              "    </tr>\n",
              "  </thead>\n",
              "  <tbody>\n",
              "    <tr>\n",
              "      <th>0</th>\n",
              "      <td>1986-06-04</td>\n",
              "      <td>0.065041</td>\n",
              "    </tr>\n",
              "    <tr>\n",
              "      <th>1</th>\n",
              "      <td>1986-06-05</td>\n",
              "      <td>0.067397</td>\n",
              "    </tr>\n",
              "    <tr>\n",
              "      <th>2</th>\n",
              "      <td>1986-06-06</td>\n",
              "      <td>0.066740</td>\n",
              "    </tr>\n",
              "    <tr>\n",
              "      <th>3</th>\n",
              "      <td>1986-06-09</td>\n",
              "      <td>0.068247</td>\n",
              "    </tr>\n",
              "    <tr>\n",
              "      <th>4</th>\n",
              "      <td>1986-06-10</td>\n",
              "      <td>0.067041</td>\n",
              "    </tr>\n",
              "    <tr>\n",
              "      <th>...</th>\n",
              "      <td>...</td>\n",
              "      <td>...</td>\n",
              "    </tr>\n",
              "    <tr>\n",
              "      <th>8712</th>\n",
              "      <td>2021-03-10</td>\n",
              "      <td>0.007469</td>\n",
              "    </tr>\n",
              "    <tr>\n",
              "      <th>8713</th>\n",
              "      <td>2021-03-11</td>\n",
              "      <td>0.007469</td>\n",
              "    </tr>\n",
              "    <tr>\n",
              "      <th>8714</th>\n",
              "      <td>2021-03-12</td>\n",
              "      <td>0.007469</td>\n",
              "    </tr>\n",
              "    <tr>\n",
              "      <th>8715</th>\n",
              "      <td>2021-03-15</td>\n",
              "      <td>0.007469</td>\n",
              "    </tr>\n",
              "    <tr>\n",
              "      <th>8716</th>\n",
              "      <td>2021-03-16</td>\n",
              "      <td>0.007469</td>\n",
              "    </tr>\n",
              "  </tbody>\n",
              "</table>\n",
              "<p>8717 rows × 2 columns</p>\n",
              "</div>"
            ],
            "text/plain": [
              "           data     valor\n",
              "0    1986-06-04  0.065041\n",
              "1    1986-06-05  0.067397\n",
              "2    1986-06-06  0.066740\n",
              "3    1986-06-09  0.068247\n",
              "4    1986-06-10  0.067041\n",
              "...         ...       ...\n",
              "8712 2021-03-10  0.007469\n",
              "8713 2021-03-11  0.007469\n",
              "8714 2021-03-12  0.007469\n",
              "8715 2021-03-15  0.007469\n",
              "8716 2021-03-16  0.007469\n",
              "\n",
              "[8717 rows x 2 columns]"
            ]
          },
          "metadata": {
            "tags": []
          },
          "execution_count": 5
        }
      ]
    },
    {
      "cell_type": "code",
      "metadata": {
        "id": "FQWiqG-C0bCU"
      },
      "source": [
        "## dados tem início em 1986-06-04\r\n",
        "recorte = '2007-01-01'\r\n",
        "\r\n",
        "selic_recorte = selic[selic['data'] > recorte]"
      ],
      "execution_count": null,
      "outputs": []
    },
    {
      "cell_type": "code",
      "metadata": {
        "colab": {
          "base_uri": "https://localhost:8080/",
          "height": 204
        },
        "id": "POq18gLh0TxT",
        "outputId": "8f4cd5ee-c950-4b64-d93c-ea448cc1b1e4"
      },
      "source": [
        "selic_recorte.head()"
      ],
      "execution_count": null,
      "outputs": [
        {
          "output_type": "execute_result",
          "data": {
            "text/html": [
              "<div>\n",
              "<style scoped>\n",
              "    .dataframe tbody tr th:only-of-type {\n",
              "        vertical-align: middle;\n",
              "    }\n",
              "\n",
              "    .dataframe tbody tr th {\n",
              "        vertical-align: top;\n",
              "    }\n",
              "\n",
              "    .dataframe thead th {\n",
              "        text-align: right;\n",
              "    }\n",
              "</style>\n",
              "<table border=\"1\" class=\"dataframe\">\n",
              "  <thead>\n",
              "    <tr style=\"text-align: right;\">\n",
              "      <th></th>\n",
              "      <th>data</th>\n",
              "      <th>valor</th>\n",
              "    </tr>\n",
              "  </thead>\n",
              "  <tbody>\n",
              "    <tr>\n",
              "      <th>5150</th>\n",
              "      <td>2007-01-02</td>\n",
              "      <td>0.049178</td>\n",
              "    </tr>\n",
              "    <tr>\n",
              "      <th>5151</th>\n",
              "      <td>2007-01-03</td>\n",
              "      <td>0.049143</td>\n",
              "    </tr>\n",
              "    <tr>\n",
              "      <th>5152</th>\n",
              "      <td>2007-01-04</td>\n",
              "      <td>0.049178</td>\n",
              "    </tr>\n",
              "    <tr>\n",
              "      <th>5153</th>\n",
              "      <td>2007-01-05</td>\n",
              "      <td>0.049178</td>\n",
              "    </tr>\n",
              "    <tr>\n",
              "      <th>5154</th>\n",
              "      <td>2007-01-08</td>\n",
              "      <td>0.049178</td>\n",
              "    </tr>\n",
              "  </tbody>\n",
              "</table>\n",
              "</div>"
            ],
            "text/plain": [
              "           data     valor\n",
              "5150 2007-01-02  0.049178\n",
              "5151 2007-01-03  0.049143\n",
              "5152 2007-01-04  0.049178\n",
              "5153 2007-01-05  0.049178\n",
              "5154 2007-01-08  0.049178"
            ]
          },
          "metadata": {
            "tags": []
          },
          "execution_count": 39
        }
      ]
    },
    {
      "cell_type": "code",
      "metadata": {
        "colab": {
          "base_uri": "https://localhost:8080/",
          "height": 399
        },
        "id": "bkwu_e38z_WD",
        "outputId": "440e06b1-3fc7-4610-f57f-5e764d9a6af4"
      },
      "source": [
        "plt.figure(figsize=(16,6))\r\n",
        "plt.plot(selic_recorte['data'], selic_recorte['valor'])\r\n",
        "plt.plot(selic_recorte['data'], selic_recorte['valor'])\r\n",
        "plt.title(\"Taxa SELIC\", fontsize = 25)\r\n",
        "plt.show()"
      ],
      "execution_count": null,
      "outputs": [
        {
          "output_type": "display_data",
          "data": {
            "image/png": "[encoded data removed]",
            "text/plain": [
              "<Figure size 1152x432 with 1 Axes>"
            ]
          },
          "metadata": {
            "tags": [],
            "needs_background": "light"
          }
        }
      ]
    }
  ]
}