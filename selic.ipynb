{
  "nbformat": 4,
  "nbformat_minor": 0,
  "metadata": {
    "colab": {
      "name": "selic.ipynb",
      "provenance": [],
      "collapsed_sections": [],
      "mount_file_id": "1bzJC8ce8vttaLLn8k_R1rFTzEwSzNfyj",
      "authorship_tag": "ABX9TyMNdxIgV2lCPmeFawt+gTwb",
      "include_colab_link": true
    },
    "kernelspec": {
      "name": "python3",
      "display_name": "Python 3"
    }
  },
  "cells": [
    {
      "cell_type": "markdown",
      "metadata": {
        "id": "view-in-github",
        "colab_type": "text"
      },
      "source": [
        "<a href=\"https://colab.research.google.com/github/sleiph/exploracao-de-dados/blob/main/selic.ipynb\" target=\"_parent\"><img src=\"https://colab.research.google.com/assets/colab-badge.svg\" alt=\"Open In Colab\"/></a>"
      ]
    },
    {
      "cell_type": "markdown",
      "metadata": {
        "id": "GELBCKLu5uc1"
      },
      "source": [
        "# Taxa de juros - Selic\n",
        "\n",
        "É preciso dar play em todas as células de código antes de visualizar/atualizar os gráficos."
      ]
    },
    {
      "cell_type": "markdown",
      "source": [
        "## imports"
      ],
      "metadata": {
        "id": "Jc9YHBpCeDrS"
      }
    },
    {
      "cell_type": "code",
      "metadata": {
        "id": "0N5htKC1JKMq"
      },
      "source": [
        "import pandas as pd\n",
        "import numpy as np\n",
        "import matplotlib.pyplot as plt\n",
        "import seaborn as sns"
      ],
      "execution_count": 1,
      "outputs": []
    },
    {
      "cell_type": "markdown",
      "source": [
        "## criação do dataframe"
      ],
      "metadata": {
        "id": "D75j3NL_ebg5"
      }
    },
    {
      "cell_type": "code",
      "metadata": {
        "id": "7jeh5ctvm0qw"
      },
      "source": [
        "# https://dados.gov.br/dataset/11-taxa-de-juros-selic\n",
        "\n",
        "selic = pd.read_csv('http://api.bcb.gov.br/dados/serie/bcdata.sgs.11/dados?formato=csv', delimiter=';', decimal=\",\")"
      ],
      "execution_count": 2,
      "outputs": []
    },
    {
      "cell_type": "code",
      "metadata": {
        "id": "WtA7m8CIwmNS"
      },
      "source": [
        "selic['data'] = pd.to_datetime(selic['data'], format='%d/%m/%Y')"
      ],
      "execution_count": 3,
      "outputs": []
    },
    {
      "cell_type": "code",
      "metadata": {
        "id": "1PjVIDwZ3CBG"
      },
      "source": [
        "selic"
      ],
      "execution_count": null,
      "outputs": []
    },
    {
      "cell_type": "markdown",
      "source": [
        "## preferências"
      ],
      "metadata": {
        "id": "5sI8QVQUegPq"
      }
    },
    {
      "cell_type": "code",
      "metadata": {
        "id": "FQWiqG-C0bCU"
      },
      "source": [
        "# escolher qual a data de início para visualização\n",
        "## dados tem início em 1986-06-04\n",
        "recorte = '2007-01-01'"
      ],
      "execution_count": 5,
      "outputs": []
    },
    {
      "cell_type": "markdown",
      "source": [
        "## visualização dos dados"
      ],
      "metadata": {
        "id": "dGy1rE_JeqcX"
      }
    },
    {
      "cell_type": "code",
      "metadata": {
        "id": "POq18gLh0TxT"
      },
      "source": [
        "selic_recorte = selic[selic['data'] > recorte]\n",
        "selic_recorte.head()"
      ],
      "execution_count": null,
      "outputs": []
    },
    {
      "cell_type": "code",
      "metadata": {
        "id": "bkwu_e38z_WD"
      },
      "source": [
        "plt.figure(figsize=(16,6))\n",
        "plt.plot(selic_recorte['data'], selic_recorte['valor'])\n",
        "plt.plot(selic_recorte['data'], selic_recorte['valor'])\n",
        "plt.title(\"Taxa SELIC\", fontsize = 25)\n",
        "plt.show()"
      ],
      "execution_count": null,
      "outputs": []
    }
  ]
}