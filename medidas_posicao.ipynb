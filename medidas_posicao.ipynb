{
  "nbformat": 4,
  "nbformat_minor": 0,
  "metadata": {
    "colab": {
      "name": "medidas_posicao.ipynb",
      "provenance": [],
      "collapsed_sections": [],
      "authorship_tag": "ABX9TyNOL2jg6xrsh0+zC+2aBre+",
      "include_colab_link": true
    },
    "kernelspec": {
      "name": "python3",
      "display_name": "Python 3"
    }
  },
  "cells": [
    {
      "cell_type": "markdown",
      "metadata": {
        "id": "view-in-github",
        "colab_type": "text"
      },
      "source": [
        "<a href=\"https://colab.research.google.com/github/sleiph/exploracao-de-dados/blob/main/medidas_posicao.ipynb\" target=\"_parent\"><img src=\"https://colab.research.google.com/assets/colab-badge.svg\" alt=\"Open In Colab\"/></a>"
      ]
    },
    {
      "cell_type": "markdown",
      "metadata": {
        "id": "NJXSu4fY-AbP"
      },
      "source": [
        "# Medidas de posição"
      ]
    },
    {
      "cell_type": "code",
      "metadata": {
        "id": "S4PtIMpVClZv"
      },
      "source": [
        "# o importante é importar\n",
        "import numpy as np\n",
        "import pandas as pd\n",
        " \n",
        "import math"
      ],
      "execution_count": 1,
      "outputs": []
    },
    {
      "cell_type": "markdown",
      "metadata": {
        "id": "OlcMW743aRBD"
      },
      "source": [
        "### criação da tabela de distribuição"
      ]
    },
    {
      "cell_type": "code",
      "metadata": {
        "id": "gagTcO02auQr"
      },
      "source": [
        "# entrada de dados\n",
        "valor_min = [700, 850, 1000, 1150, 1300, 1450, 1600]\n",
        "valor_max = [850, 1000, 1150, 1300, 1450, 1600, 1750]\n",
        "frequencia = [12, 17, 28, 22, 17, 11, 8]"
      ],
      "execution_count": 2,
      "outputs": []
    },
    {
      "cell_type": "code",
      "metadata": {
        "id": "NlTE0ndP1inG"
      },
      "source": [
        "# populando as listas\n",
        "valores = []\n",
        "valor_med = []\n",
        "\n",
        "for i in range(len(valor_min)):\n",
        "  valores.append( str(valor_min[i]) + \" ⊢ \" + str(valor_max[i]) )\n",
        "  valor_med.append( (valor_min[i] + valor_max[i])/2 )"
      ],
      "execution_count": 3,
      "outputs": []
    },
    {
      "cell_type": "code",
      "metadata": {
        "id": "OMN_ZwNDa7hl"
      },
      "source": [
        "# criando a tabela\n",
        "df = pd.DataFrame({\n",
        "    'limites': valores,\n",
        "    'inferior': valor_min,\n",
        "    'superior': valor_max,\n",
        "    'xi': valor_med,\n",
        "    'fi': frequencia\n",
        "})\n",
        "\n",
        "# começando o índice em 1\n",
        "df.index = np.arange(1, len(df)+1)\n",
        "\n",
        "# adicionando valores pra cálculos\n",
        "df['fac'] = df['fi'].cumsum()\n",
        "df['xf'] = df['xi'] * df['fi']\n",
        "df['xi'] = df['xf'] / df['fi']"
      ],
      "execution_count": 4,
      "outputs": []
    },
    {
      "cell_type": "code",
      "metadata": {
        "colab": {
          "base_uri": "https://localhost:8080/",
          "height": 266
        },
        "id": "1IaMFLtnb0el",
        "outputId": "f90b7d2a-e7dc-45cd-8557-4c0acdea6edd"
      },
      "source": [
        "df"
      ],
      "execution_count": 5,
      "outputs": [
        {
          "output_type": "execute_result",
          "data": {
            "text/html": [
              "<div>\n",
              "<style scoped>\n",
              "    .dataframe tbody tr th:only-of-type {\n",
              "        vertical-align: middle;\n",
              "    }\n",
              "\n",
              "    .dataframe tbody tr th {\n",
              "        vertical-align: top;\n",
              "    }\n",
              "\n",
              "    .dataframe thead th {\n",
              "        text-align: right;\n",
              "    }\n",
              "</style>\n",
              "<table border=\"1\" class=\"dataframe\">\n",
              "  <thead>\n",
              "    <tr style=\"text-align: right;\">\n",
              "      <th></th>\n",
              "      <th>limites</th>\n",
              "      <th>inferior</th>\n",
              "      <th>superior</th>\n",
              "      <th>xi</th>\n",
              "      <th>fi</th>\n",
              "      <th>fac</th>\n",
              "      <th>xf</th>\n",
              "    </tr>\n",
              "  </thead>\n",
              "  <tbody>\n",
              "    <tr>\n",
              "      <th>1</th>\n",
              "      <td>700 ⊢ 850</td>\n",
              "      <td>700</td>\n",
              "      <td>850</td>\n",
              "      <td>775.0</td>\n",
              "      <td>12</td>\n",
              "      <td>12</td>\n",
              "      <td>9300.0</td>\n",
              "    </tr>\n",
              "    <tr>\n",
              "      <th>2</th>\n",
              "      <td>850 ⊢ 1000</td>\n",
              "      <td>850</td>\n",
              "      <td>1000</td>\n",
              "      <td>925.0</td>\n",
              "      <td>17</td>\n",
              "      <td>29</td>\n",
              "      <td>15725.0</td>\n",
              "    </tr>\n",
              "    <tr>\n",
              "      <th>3</th>\n",
              "      <td>1000 ⊢ 1150</td>\n",
              "      <td>1000</td>\n",
              "      <td>1150</td>\n",
              "      <td>1075.0</td>\n",
              "      <td>28</td>\n",
              "      <td>57</td>\n",
              "      <td>30100.0</td>\n",
              "    </tr>\n",
              "    <tr>\n",
              "      <th>4</th>\n",
              "      <td>1150 ⊢ 1300</td>\n",
              "      <td>1150</td>\n",
              "      <td>1300</td>\n",
              "      <td>1225.0</td>\n",
              "      <td>22</td>\n",
              "      <td>79</td>\n",
              "      <td>26950.0</td>\n",
              "    </tr>\n",
              "    <tr>\n",
              "      <th>5</th>\n",
              "      <td>1300 ⊢ 1450</td>\n",
              "      <td>1300</td>\n",
              "      <td>1450</td>\n",
              "      <td>1375.0</td>\n",
              "      <td>17</td>\n",
              "      <td>96</td>\n",
              "      <td>23375.0</td>\n",
              "    </tr>\n",
              "    <tr>\n",
              "      <th>6</th>\n",
              "      <td>1450 ⊢ 1600</td>\n",
              "      <td>1450</td>\n",
              "      <td>1600</td>\n",
              "      <td>1525.0</td>\n",
              "      <td>11</td>\n",
              "      <td>107</td>\n",
              "      <td>16775.0</td>\n",
              "    </tr>\n",
              "    <tr>\n",
              "      <th>7</th>\n",
              "      <td>1600 ⊢ 1750</td>\n",
              "      <td>1600</td>\n",
              "      <td>1750</td>\n",
              "      <td>1675.0</td>\n",
              "      <td>8</td>\n",
              "      <td>115</td>\n",
              "      <td>13400.0</td>\n",
              "    </tr>\n",
              "  </tbody>\n",
              "</table>\n",
              "</div>"
            ],
            "text/plain": [
              "       limites  inferior  superior      xi  fi  fac       xf\n",
              "1    700 ⊢ 850       700       850   775.0  12   12   9300.0\n",
              "2   850 ⊢ 1000       850      1000   925.0  17   29  15725.0\n",
              "3  1000 ⊢ 1150      1000      1150  1075.0  28   57  30100.0\n",
              "4  1150 ⊢ 1300      1150      1300  1225.0  22   79  26950.0\n",
              "5  1300 ⊢ 1450      1300      1450  1375.0  17   96  23375.0\n",
              "6  1450 ⊢ 1600      1450      1600  1525.0  11  107  16775.0\n",
              "7  1600 ⊢ 1750      1600      1750  1675.0   8  115  13400.0"
            ]
          },
          "metadata": {
            "tags": []
          },
          "execution_count": 5
        }
      ]
    },
    {
      "cell_type": "markdown",
      "metadata": {
        "id": "b--K3Rwn39SL"
      },
      "source": [
        "### Variaveis"
      ]
    },
    {
      "cell_type": "code",
      "metadata": {
        "id": "cWBRFtlJ4Amc"
      },
      "source": [
        "variacao_classe = df['superior'].min() - df['inferior'].min()\n",
        "variacao_total = df['superior'].max() - df['inferior'].min()\n",
        "valor_total = df['xf'].sum()\n",
        "frequencia_total = df['fi'].sum()"
      ],
      "execution_count": 15,
      "outputs": []
    },
    {
      "cell_type": "markdown",
      "metadata": {
        "id": "boLJgkY_3O2z"
      },
      "source": [
        "### Média"
      ]
    },
    {
      "cell_type": "code",
      "metadata": {
        "colab": {
          "base_uri": "https://localhost:8080/"
        },
        "id": "78OaBAsecXuM",
        "outputId": "54b26f6e-b5cd-4aa0-80e6-1c3f0a2c3232"
      },
      "source": [
        "valor_total / frequencia_total"
      ],
      "execution_count": 16,
      "outputs": [
        {
          "output_type": "execute_result",
          "data": {
            "text/plain": [
              "1179.3478260869565"
            ]
          },
          "metadata": {
            "tags": []
          },
          "execution_count": 16
        }
      ]
    },
    {
      "cell_type": "markdown",
      "metadata": {
        "id": "aIhAix8k3Em1"
      },
      "source": [
        "### Moda"
      ]
    },
    {
      "cell_type": "code",
      "metadata": {
        "id": "9-CHIVef5idb"
      },
      "source": [
        "indice_modal = df['fi'].idxmax()\n",
        "\n",
        "classe_modal = df.iloc[indice_modal-1]\n",
        "\n",
        "frequencia_modal = classe_modal['fi']"
      ],
      "execution_count": 17,
      "outputs": []
    },
    {
      "cell_type": "code",
      "metadata": {
        "id": "eZsaYh5I7Q8M"
      },
      "source": [
        "# d1 e d2\n",
        "if indice_modal > 1:\n",
        "  d1 = frequencia_modal - df['fi'].iloc[indice_modal-2]\n",
        "else:\n",
        "  d1 = frequencia_modal\n",
        "if indice_modal < len(df):\n",
        "  d2 = frequencia_modal - df['fi'].iloc[indice_modal]\n",
        "else:\n",
        "  d2 = frequencia_modal\n"
      ],
      "execution_count": 18,
      "outputs": []
    },
    {
      "cell_type": "code",
      "metadata": {
        "id": "dTxKxparBZk0",
        "colab": {
          "base_uri": "https://localhost:8080/"
        },
        "outputId": "02858b34-e65b-4abd-c71c-07b4d89a0fd2"
      },
      "source": [
        "# moda\n",
        "moda = classe_modal['inferior'] + (d1/(d1+d2)) * variacao_classe\n",
        "\n",
        "moda"
      ],
      "execution_count": 19,
      "outputs": [
        {
          "output_type": "execute_result",
          "data": {
            "text/plain": [
              "1097.0588235294117"
            ]
          },
          "metadata": {
            "tags": []
          },
          "execution_count": 19
        }
      ]
    },
    {
      "cell_type": "markdown",
      "metadata": {
        "id": "7RXDQ0p53SAr"
      },
      "source": [
        "### Percentis"
      ]
    },
    {
      "cell_type": "code",
      "metadata": {
        "id": "WO_JTrd9EznJ"
      },
      "source": [
        "def GetClasse(frequencia, indice):\n",
        "  contador = 0\n",
        "  for fac in frequencia:\n",
        "    if fac >= indice:\n",
        "      break\n",
        "    contador += 1\n",
        "  return contador"
      ],
      "execution_count": 20,
      "outputs": []
    },
    {
      "cell_type": "code",
      "metadata": {
        "id": "jlcTj-ezC32S"
      },
      "source": [
        "def GetPercentil(posicao):\n",
        "  indice = frequencia_total * posicao\n",
        "  classe_indice = GetClasse(df['fac'], indice)\n",
        "  classe = df.iloc[classe_indice]\n",
        "\n",
        "  limite_inferior = classe['inferior']\n",
        "\n",
        "  frequencia = classe['fi']\n",
        "  frequencia_anterior = df['fac'].iloc[classe_indice-1]\n",
        "\n",
        "  return limite_inferior + ((indice - frequencia_anterior) / frequencia) * variacao_classe"
      ],
      "execution_count": 23,
      "outputs": []
    },
    {
      "cell_type": "code",
      "metadata": {
        "colab": {
          "base_uri": "https://localhost:8080/"
        },
        "id": "HLJWoFoQKWE3",
        "outputId": "7b324e69-ca39-48e6-b49c-3ff7480686e5"
      },
      "source": [
        "mediana = GetPercentil(.5)\n",
        "\n",
        "mediana"
      ],
      "execution_count": 24,
      "outputs": [
        {
          "output_type": "execute_result",
          "data": {
            "text/plain": [
              "1153.409090909091"
            ]
          },
          "metadata": {
            "tags": []
          },
          "execution_count": 24
        }
      ]
    }
  ]
}