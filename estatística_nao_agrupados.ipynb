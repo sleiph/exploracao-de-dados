{
  "nbformat": 4,
  "nbformat_minor": 0,
  "metadata": {
    "colab": {
      "name": "estatística_nao_agrupados.ipynb",
      "provenance": [],
      "collapsed_sections": [
        "fbPTHuyOwbjI",
        "sj-eKNBMJKLv",
        "OlcMW743aRBD",
        "eGA-yxKOBWYD",
        "V9Ui_9mKoqWq"
      ],
      "authorship_tag": "ABX9TyMEoWJs6X0GMofV+sHRNchJ",
      "include_colab_link": true
    },
    "kernelspec": {
      "name": "python3",
      "display_name": "Python 3"
    }
  },
  "cells": [
    {
      "cell_type": "markdown",
      "metadata": {
        "id": "view-in-github",
        "colab_type": "text"
      },
      "source": [
        "<a href=\"https://colab.research.google.com/github/sleiph/exploracao-de-dados/blob/main/estat%C3%ADstica_nao_agrupados.ipynb\" target=\"_parent\"><img src=\"https://colab.research.google.com/assets/colab-badge.svg\" alt=\"Open In Colab\"/></a>"
      ]
    },
    {
      "cell_type": "markdown",
      "metadata": {
        "id": "NJXSu4fY-AbP"
      },
      "source": [
        "# Estatística aplicada pra dados não agrupados"
      ]
    },
    {
      "cell_type": "code",
      "metadata": {
        "id": "S4PtIMpVClZv"
      },
      "source": [
        "# o importante é importar\n",
        "import numpy as np\n",
        "import pandas as pd\n",
        "\n",
        "import math"
      ],
      "execution_count": 15,
      "outputs": []
    },
    {
      "cell_type": "code",
      "metadata": {
        "id": "fnwgZXJyl8yY"
      },
      "source": [
        "# quantidade de casas depois da vírgula\n",
        "precisao = 4"
      ],
      "execution_count": 16,
      "outputs": []
    },
    {
      "cell_type": "markdown",
      "metadata": {
        "id": "fbPTHuyOwbjI"
      },
      "source": [
        "## Declaração das funções"
      ]
    },
    {
      "cell_type": "markdown",
      "metadata": {
        "id": "sj-eKNBMJKLv"
      },
      "source": [
        "### Agrupando dados"
      ]
    },
    {
      "cell_type": "code",
      "metadata": {
        "id": "MFHg1vmVEidq"
      },
      "source": [
        "# definindo as amplitudes\n",
        "def AgruparDados(dados):\n",
        "  # número de dados\n",
        "  n = len(dados)\n",
        "\n",
        "  ## tipo dos dados\n",
        "  ### isDiscreta = all(isinstance(x, int) for x in dados)\n",
        "\n",
        "  ## organizando os dados em ordem crescente\n",
        "  dados_rol = sorted(dados)\n",
        "\n",
        "  ## amplitude dos dados\n",
        "  Xmin = int(dados_rol[0])\n",
        "  Xmax = int(dados_rol[n-1])\n",
        "\n",
        "  ## quantidade de classes\n",
        "  if n <= 50:\n",
        "    k = math.sqrt(n)\n",
        "  else:\n",
        "    k = int(round(math.log2(n))) + 1\n",
        "\n",
        "  ### se tiver menor variação de dados que k, k = variação de dados\n",
        "  if len(set(dados)) < k:\n",
        "    k = len(set(dados))\n",
        "\n",
        "  ## Amplitude Amostral\n",
        "  AA = Xmax - Xmin\n",
        "\n",
        "  ## Amplitude do intervalo\n",
        "  h = math.ceil(AA/k)\n",
        "\n",
        "  # criando um array com os separadores das classes\n",
        "  limites = []\n",
        "  ##  modos diferentes de definir as amplitudes\n",
        "  ### limites = np.arange(Xmin, Xmax+1, h)\n",
        "  ### limites = pd.cut(dados_rol, k, precision=precisao)\n",
        "\n",
        "  # populando os arrays\n",
        "  for r in range(Xmin, Xmax, h):\n",
        "    limites.append([r, r+h, sum(x in range(r, r+h) for x in dados)])  \n",
        "\n",
        "  return limites"
      ],
      "execution_count": 22,
      "outputs": []
    },
    {
      "cell_type": "markdown",
      "metadata": {
        "id": "OlcMW743aRBD"
      },
      "source": [
        "### Distribuição de frequência"
      ]
    },
    {
      "cell_type": "code",
      "metadata": {
        "id": "iH-DxbJsNDLH"
      },
      "source": [
        "def DistrubuicaoFreqDF(limites, prec=4):\n",
        "  #populando a lista\n",
        "\n",
        "  n = len(limites)\n",
        "  for i in range(len(limites)):\n",
        "    limites[i].append( str(limites[i][0]) + \" ⊢ \" + str(limites[i][1]) )\n",
        "    limites[i].append( (limites[i][0] + limites[i][1])/2 )\n",
        "\n",
        "  # criando a tabela\n",
        "  df = pd.DataFrame(\n",
        "      limites,\n",
        "      columns = [ 'inf', 'sup', 'fi', 'dist', 'xi' ]\n",
        "  )\n",
        "\n",
        "  # começando o índice em 1\n",
        "  df.index = np.arange(1, len(df)+1)\n",
        "\n",
        "  # adicionando valores pra cálculos\n",
        "  df['fri'] = (df['fi'] / df['fi'].sum()).round(prec)\n",
        "  df['fri %'] = df['fri'] * 100\n",
        "  df['fac'] = df['fi'].cumsum()\n",
        "  df['frac'] = (df['fac'] / df['fi'].sum()).round(prec)\n",
        "  df['frac %'] = df['frac'] * 100\n",
        "  df['xf'] = df['xi'] * df['fi']\n",
        "  df['(xi*xi)*fi'] = (df['xi'] * df['xi']) * df['fi']\n",
        "\n",
        "  return df"
      ],
      "execution_count": 23,
      "outputs": []
    },
    {
      "cell_type": "markdown",
      "metadata": {
        "id": "eGA-yxKOBWYD"
      },
      "source": [
        "### Medidas de posição"
      ]
    },
    {
      "cell_type": "code",
      "metadata": {
        "id": "TfITdQTKvp4z"
      },
      "source": [
        "# Média Aritmética\n",
        "def GetMedia(dados, prec=4):\n",
        "  return round( sum(dados) / len(dados), prec)"
      ],
      "execution_count": 24,
      "outputs": []
    },
    {
      "cell_type": "code",
      "metadata": {
        "id": "gp8yv9XiwJNs"
      },
      "source": [
        "# Moda\n",
        "def GetModa(dados, prec=4):\n",
        "  if len(set(dados)) == len(dados):\n",
        "    return GetPercentil(dados, .5)\n",
        "  return round(max(dados, key = dados.count), prec)"
      ],
      "execution_count": 25,
      "outputs": []
    },
    {
      "cell_type": "code",
      "metadata": {
        "id": "0tSm15zbyuAA"
      },
      "source": [
        "# Percentis\n",
        "def GetPercentil(dados, posicao=.5, prec=4):\n",
        "  n = len(dados)\n",
        "  rol = sorted(dados)\n",
        "  if n%2!=0:\n",
        "    return rol[ int(n*posicao) ]\n",
        "  else:\n",
        "    indice = int(n*posicao)\n",
        "    return (rol[indice-1]+rol[indice])/2"
      ],
      "execution_count": 26,
      "outputs": []
    },
    {
      "cell_type": "markdown",
      "metadata": {
        "id": "V9Ui_9mKoqWq"
      },
      "source": [
        "### Medidas de dispersão"
      ]
    },
    {
      "cell_type": "code",
      "metadata": {
        "id": "KGrMkUbJFWaZ"
      },
      "source": [
        "# variância (s²)\n",
        "def GetVariancia(dados, prec=4):\n",
        "  return round( sum([ (x-GetMedia(dados))**2 for x in dados ]) / len(dados), prec )"
      ],
      "execution_count": 27,
      "outputs": []
    },
    {
      "cell_type": "code",
      "metadata": {
        "id": "nw4_hKR_G_lu"
      },
      "source": [
        "# desvio padrão (s)\n",
        "def GetDesvio(dados, prec=4):\n",
        "  return round(math.sqrt( GetVariancia(dados) ), prec)"
      ],
      "execution_count": 28,
      "outputs": []
    },
    {
      "cell_type": "code",
      "metadata": {
        "id": "3eJvCCJCHMNI"
      },
      "source": [
        "# coeficiente de variação\n",
        "def GetVariacaoCoef(dados, prec=4):\n",
        "  return round((GetDesvio(dados) / GetMedia(dados) * 100), prec)"
      ],
      "execution_count": 29,
      "outputs": []
    },
    {
      "cell_type": "code",
      "metadata": {
        "id": "H_Rpx5f56CvL"
      },
      "source": [
        "# coeficiente de assimetria de Pearson\n",
        "def GetAssimetriaCoef(dados, prec=4):\n",
        "  return round( (3*(GetMedia(dados)-GetPercentil(dados, .5))) / GetDesvio(dados), prec )"
      ],
      "execution_count": 30,
      "outputs": []
    },
    {
      "cell_type": "code",
      "metadata": {
        "id": "mqvzPmpAjrST"
      },
      "source": [
        "# tipo de assimetria\n",
        "def GetTipoAssimetria(assimetria):\n",
        "  if assimetria<0:\n",
        "    return \"Assimetria negativa ou à esquerda\"\n",
        "  elif assimetria>0:\n",
        "    return \"Assimetria positiva ou à direita\"\n",
        "  else:\n",
        "    return \"Assimetria nula\""
      ],
      "execution_count": 31,
      "outputs": []
    },
    {
      "cell_type": "code",
      "metadata": {
        "id": "UJI_L1SqHuRw"
      },
      "source": [
        "# curtose\n",
        "def GetCurtose(dados, prec=4):\n",
        "  q1 = GetPercentil(dados, .25)\n",
        "  q3 = GetPercentil(dados, .75)\n",
        "  p90 = GetPercentil(dados, .9)\n",
        "  p10 = GetPercentil(dados, .1)\n",
        "  return round( (q3-q1)/(2*(p90-p10)), prec )"
      ],
      "execution_count": 32,
      "outputs": []
    },
    {
      "cell_type": "code",
      "metadata": {
        "id": "5K9YGHrKVDnm"
      },
      "source": [
        "# tipo de curva\n",
        "def GetTipoCurva(curtose):\n",
        "  if curtose < 0.263:\n",
        "    return \"Leptocúrtica\"\n",
        "  elif curtose > 0.263:\n",
        "    return \"Platicúrtica\"\n",
        "  else:\n",
        "    return \"Mesocúrtica\""
      ],
      "execution_count": 33,
      "outputs": []
    },
    {
      "cell_type": "markdown",
      "metadata": {
        "id": "5WhKEIeMxA1X"
      },
      "source": [
        "## Entrada de dados"
      ]
    },
    {
      "cell_type": "code",
      "metadata": {
        "id": "u81SSfrb0nI5"
      },
      "source": [
        "dados_nao_agrupados = [\n",
        "                       230, 232, 244, 245, 248, 249, 250, 255, 257, 260, 264, 271, 278, 280, 280,\n",
        "                       280, 281, 284, 289, 292, 292, 293, 294, 294, 296, 299, 299, 299, 302, 302,\n",
        "                       308, 309, 309, 310, 311, 312, 314, 315, 316, 318, 318, 320, 321, 324, 326,\n",
        "                       333, 335, 335, 337, 337, 339, 341, 342, 342, 342, 348, 356, 360, 365, 369\n",
        "                      ]"
      ],
      "execution_count": 34,
      "outputs": []
    },
    {
      "cell_type": "markdown",
      "metadata": {
        "id": "9fkc-BW1v8Lw"
      },
      "source": [
        "## Distribuição de frequência"
      ]
    },
    {
      "cell_type": "code",
      "metadata": {
        "id": "wO_p8tRQv-zP"
      },
      "source": [
        "# preparar dados não agrupados\n",
        "dados_agrupados = AgruparDados(dados_nao_agrupados)\n",
        "dados_df = DistrubuicaoFreqDF(dados_agrupados, precisao)\n",
        "\n",
        "dados_df"
      ],
      "execution_count": null,
      "outputs": []
    },
    {
      "cell_type": "markdown",
      "metadata": {
        "id": "Gr9iakf6ybBo"
      },
      "source": [
        "## Medidas de posição"
      ]
    },
    {
      "cell_type": "code",
      "metadata": {
        "id": "nX0h9vRmIc0W"
      },
      "source": [
        "# executando os cálculos\n",
        "media = GetMedia(dados_nao_agrupados, precisao)\n",
        "print(\"media:\", media)"
      ],
      "execution_count": null,
      "outputs": []
    },
    {
      "cell_type": "code",
      "metadata": {
        "id": "mnRMohs5Ziv8"
      },
      "source": [
        "moda = GetModa(dados_nao_agrupados)\n",
        "print(\"moda:\", moda)"
      ],
      "execution_count": null,
      "outputs": []
    },
    {
      "cell_type": "code",
      "metadata": {
        "id": "fdd1dAnZZj2G"
      },
      "source": [
        "mediana = GetPercentil(dados_nao_agrupados, .5, precisao)\n",
        "print(\"mediana:\", mediana)"
      ],
      "execution_count": null,
      "outputs": []
    },
    {
      "cell_type": "code",
      "metadata": {
        "id": "GhfSiH7IZk2N"
      },
      "source": [
        "q1 = GetPercentil(dados_nao_agrupados, .25, precisao)\n",
        "print(\"Q1:\", q1)"
      ],
      "execution_count": null,
      "outputs": []
    },
    {
      "cell_type": "code",
      "metadata": {
        "id": "p7dTnD6TZlxU"
      },
      "source": [
        "q3 = GetPercentil(dados_nao_agrupados, .75, precisao)\n",
        "print(\"Q3:\", q3)"
      ],
      "execution_count": null,
      "outputs": []
    },
    {
      "cell_type": "markdown",
      "metadata": {
        "id": "7mmBTG9bjBtE"
      },
      "source": [
        "## Medidas de dispersão"
      ]
    },
    {
      "cell_type": "code",
      "metadata": {
        "id": "1nFYR9zqjHf7"
      },
      "source": [
        "variancia = GetVariancia(dados_nao_agrupados, precisao)\n",
        "print(\"variância:\", variancia)"
      ],
      "execution_count": null,
      "outputs": []
    },
    {
      "cell_type": "code",
      "metadata": {
        "id": "9cOYY6i6ZY39"
      },
      "source": [
        "desvio = GetDesvio(dados_nao_agrupados, precisao)\n",
        "print(\"desvio padrão:\", desvio)"
      ],
      "execution_count": null,
      "outputs": []
    },
    {
      "cell_type": "code",
      "metadata": {
        "id": "7GGdFORSZaH0"
      },
      "source": [
        "coeficiente_variacao = GetVariacaoCoef(dados_nao_agrupados, precisao)\n",
        "print(\"coeficiente de variação:\", coeficiente_variacao)"
      ],
      "execution_count": null,
      "outputs": []
    },
    {
      "cell_type": "code",
      "metadata": {
        "id": "17Y0X9mAZba5"
      },
      "source": [
        "coeficiente_assimetria = GetAssimetriaCoef(dados_nao_agrupados, precisao)\n",
        "print(\"coeficiente de assimetria:\", coeficiente_assimetria)"
      ],
      "execution_count": null,
      "outputs": []
    },
    {
      "cell_type": "code",
      "metadata": {
        "id": "Ab6nWqFOZcos"
      },
      "source": [
        "tipo_assimetria = GetTipoAssimetria(coeficiente_assimetria)\n",
        "print(\"tipo de assimetria:\", tipo_assimetria)"
      ],
      "execution_count": null,
      "outputs": []
    },
    {
      "cell_type": "code",
      "metadata": {
        "id": "ynzJ8LeGZdtc"
      },
      "source": [
        "curtose = GetCurtose(dados_nao_agrupados, precisao)\n",
        "print(\"curtose:\", curtose)"
      ],
      "execution_count": null,
      "outputs": []
    },
    {
      "cell_type": "code",
      "metadata": {
        "id": "8TpsPIA1Zeq8"
      },
      "source": [
        "tipo_curva = GetTipoCurva(curtose)\n",
        "print(\"tipo de curva:\", tipo_curva)"
      ],
      "execution_count": null,
      "outputs": []
    }
  ]
}
