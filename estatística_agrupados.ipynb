{
  "nbformat": 4,
  "nbformat_minor": 0,
  "metadata": {
    "colab": {
      "name": "estatística_agrupados.ipynb",
      "provenance": [],
      "collapsed_sections": [
        "fbPTHuyOwbjI",
        "EFMGFlX1mUAz",
        "OlcMW743aRBD",
        "eGA-yxKOBWYD",
        "7RXDQ0p53SAr",
        "V9Ui_9mKoqWq",
        "jzAjHhb7V9y5"
      ],
      "authorship_tag": "ABX9TyM1Gv/utamw/OhFmmedj6u+",
      "include_colab_link": true
    },
    "kernelspec": {
      "name": "python3",
      "display_name": "Python 3"
    }
  },
  "cells": [
    {
      "cell_type": "markdown",
      "metadata": {
        "id": "view-in-github",
        "colab_type": "text"
      },
      "source": [
        "<a href=\"https://colab.research.google.com/github/sleiph/exploracao-de-dados/blob/main/estat%C3%ADstica_agrupados.ipynb\" target=\"_parent\"><img src=\"https://colab.research.google.com/assets/colab-badge.svg\" alt=\"Open In Colab\"/></a>"
      ]
    },
    {
      "cell_type": "markdown",
      "metadata": {
        "id": "NJXSu4fY-AbP"
      },
      "source": [
        "# Estatística aplicada pra dados agrupados"
      ]
    },
    {
      "cell_type": "code",
      "metadata": {
        "id": "S4PtIMpVClZv"
      },
      "source": [
        "# o importante é importar\n",
        "import numpy as np\n",
        "import pandas as pd\n",
        "\n",
        "import math"
      ],
      "execution_count": 18,
      "outputs": []
    },
    {
      "cell_type": "code",
      "metadata": {
        "id": "fnwgZXJyl8yY"
      },
      "source": [
        "# quantidade de casas depois da vírgula\n",
        "precisao = 4"
      ],
      "execution_count": 19,
      "outputs": []
    },
    {
      "cell_type": "markdown",
      "metadata": {
        "id": "fbPTHuyOwbjI"
      },
      "source": [
        "## Declaração das funções"
      ]
    },
    {
      "cell_type": "markdown",
      "metadata": {
        "id": "EFMGFlX1mUAz"
      },
      "source": [
        "### Desagrupando dados"
      ]
    },
    {
      "cell_type": "code",
      "metadata": {
        "id": "y4iWxIiDnPXc"
      },
      "source": [
        "def DesagruparDados(limites):\n",
        "  dados = []\n",
        "\n",
        "  for grupo in limites:\n",
        "    for i in range(grupo[2]):\n",
        "      dados.append( (grupo[0]+grupo[1])/2 )\n",
        "\n",
        "  return dados"
      ],
      "execution_count": 20,
      "outputs": []
    },
    {
      "cell_type": "markdown",
      "metadata": {
        "id": "OlcMW743aRBD"
      },
      "source": [
        "### Distribuição de frequência"
      ]
    },
    {
      "cell_type": "code",
      "metadata": {
        "id": "iH-DxbJsNDLH"
      },
      "source": [
        "def DistrubuicaoFreqDF(limites, prec=4):\n",
        "  #populando a lista\n",
        "\n",
        "  n = len(limites)\n",
        "  for i in range(len(limites)):\n",
        "    limites[i].append( str(limites[i][0]) + \" ⊢ \" + str(limites[i][1]) )\n",
        "    limites[i].append( (limites[i][0] + limites[i][1])/2 )\n",
        "\n",
        "  # criando a tabela\n",
        "  df = pd.DataFrame(\n",
        "      limites,\n",
        "      columns = [ 'inf', 'sup', 'fi', 'dist', 'xi' ]\n",
        "  )\n",
        "\n",
        "  # começando o índice em 1\n",
        "  df.index = np.arange(1, len(df)+1)\n",
        "\n",
        "  # adicionando valores pra cálculos\n",
        "  df['fri'] = (df['fi'] / df['fi'].sum()).round(prec)\n",
        "  df['fri %'] = df['fri'] * 100\n",
        "  df['fac'] = df['fi'].cumsum()\n",
        "  df['frac'] = (df['fac'] / df['fi'].sum()).round(prec)\n",
        "  df['frac %'] = df['frac'] * 100\n",
        "  df['xf'] = df['xi'] * df['fi']\n",
        "  df['(xi*xi)*fi'] = (df['xi'] * df['xi']) * df['fi']\n",
        "\n",
        "  return df"
      ],
      "execution_count": 21,
      "outputs": []
    },
    {
      "cell_type": "markdown",
      "metadata": {
        "id": "eGA-yxKOBWYD"
      },
      "source": [
        "### Medidas de posição"
      ]
    },
    {
      "cell_type": "code",
      "metadata": {
        "id": "78OaBAsecXuM"
      },
      "source": [
        "# Média Aritmética\n",
        "def GetMedia(df, prec=4):\n",
        "  return round(df['xf'].sum() / df['fi'].sum(), prec)"
      ],
      "execution_count": 22,
      "outputs": []
    },
    {
      "cell_type": "code",
      "metadata": {
        "id": "9-CHIVef5idb"
      },
      "source": [
        "# Moda\n",
        "def GetModa(df, prec=4):\n",
        "  indice_modal = df['fi'].idxmax()\n",
        "  classe_modal = df.iloc[indice_modal-1]\n",
        "  frequencia_modal = classe_modal['fi']\n",
        "\n",
        "  # d1 e d2\n",
        "  if indice_modal > 1:\n",
        "    d1 = frequencia_modal - df['fi'].iloc[indice_modal-2]\n",
        "  else:\n",
        "    d1 = frequencia_modal\n",
        "  if indice_modal < len(df):\n",
        "    d2 = frequencia_modal - df['fi'].iloc[indice_modal]\n",
        "  else:\n",
        "    d2 = frequencia_modal\n",
        "\n",
        "  variacao_classe = df['sup'].min() - df['inf'].min()\n",
        "\n",
        "  return round(classe_modal['inf'] + (d1/(d1+d2)) * variacao_classe, prec)"
      ],
      "execution_count": 23,
      "outputs": []
    },
    {
      "cell_type": "markdown",
      "metadata": {
        "id": "7RXDQ0p53SAr"
      },
      "source": [
        "#### Percentis"
      ]
    },
    {
      "cell_type": "code",
      "metadata": {
        "id": "WO_JTrd9EznJ"
      },
      "source": [
        "def GetClasse(frequencia, indice):\n",
        "  contador = 0\n",
        "  for fac in frequencia:\n",
        "    if fac >= indice:\n",
        "      break\n",
        "    contador += 1\n",
        "  return contador"
      ],
      "execution_count": 24,
      "outputs": []
    },
    {
      "cell_type": "code",
      "metadata": {
        "id": "jlcTj-ezC32S"
      },
      "source": [
        "def GetPercentil(df, posicao=.5, prec=4):\n",
        "  frequencia_total = df['fi'].sum()\n",
        "  indice = frequencia_total * posicao\n",
        "  classe_indice = GetClasse(df['fac'], indice)\n",
        "  classe = df.iloc[classe_indice]\n",
        "  \n",
        "  limite_inferior = classe['inf']\n",
        "\n",
        "  frequencia = classe['fi']\n",
        "  frequencia_anterior = df['fac'].iloc[classe_indice-1]\n",
        "\n",
        "  variacao_classe = df['sup'].min() - df['inf'].min()\n",
        "\n",
        "  return round(limite_inferior + ((indice - frequencia_anterior) / frequencia) * variacao_classe, prec)"
      ],
      "execution_count": 25,
      "outputs": []
    },
    {
      "cell_type": "markdown",
      "metadata": {
        "id": "V9Ui_9mKoqWq"
      },
      "source": [
        "### Medidas de dispersão"
      ]
    },
    {
      "cell_type": "code",
      "metadata": {
        "id": "o8JLZD80M8Lu"
      },
      "source": [
        "# variância (s²)\n",
        "def GetVariancia(df, prec=4):\n",
        "  n = df['fi'].sum()\n",
        "  return  round( ((1/n) * (df['(xi*xi)*fi'].sum() - ((df['xf'].sum() * df['xf'].sum()) / n )) ), prec)"
      ],
      "execution_count": 26,
      "outputs": []
    },
    {
      "cell_type": "code",
      "metadata": {
        "id": "kBznxVs73uXB"
      },
      "source": [
        "# desvio padrão (s)\n",
        "def GetDesvio(df, prec=4):\n",
        "  return round(math.sqrt( GetVariancia(df) ), prec)"
      ],
      "execution_count": 27,
      "outputs": []
    },
    {
      "cell_type": "code",
      "metadata": {
        "id": "UITiyLbIEEqp"
      },
      "source": [
        "# coeficiente de variação\n",
        "def GetVariacaoCoef(df, prec=4):\n",
        "  return round((GetDesvio(df) / GetMedia(df) * 100), prec)"
      ],
      "execution_count": 28,
      "outputs": []
    },
    {
      "cell_type": "code",
      "metadata": {
        "id": "n5Ne7JkRuLVm"
      },
      "source": [
        "# coeficiente de assimetria de Pearson\n",
        "def GetAssimetriaCoef(df, prec=4):\n",
        "  return round( ( 3*(GetMedia(df)-GetPercentil(df, .5)) ) / GetDesvio(df), prec )"
      ],
      "execution_count": 29,
      "outputs": []
    },
    {
      "cell_type": "code",
      "metadata": {
        "id": "mqvzPmpAjrST"
      },
      "source": [
        "# tipo de assimetria\n",
        "def GetTipoAssimetria(assimetria):\n",
        "  if assimetria<0:\n",
        "    return \"Assimetria negativa ou à esquerda\"\n",
        "  elif assimetria>0:\n",
        "    return \"Assimetria positiva ou à direita\"\n",
        "  else:\n",
        "    return \"Assimetria nula\""
      ],
      "execution_count": 30,
      "outputs": []
    },
    {
      "cell_type": "markdown",
      "metadata": {
        "id": "jzAjHhb7V9y5"
      },
      "source": [
        "#### curtose"
      ]
    },
    {
      "cell_type": "code",
      "metadata": {
        "id": "qM10dYEd60kv"
      },
      "source": [
        "# curtose\n",
        "def GetCurtose(df, prec=4):\n",
        "  q1 = GetPercentil(df, .25)\n",
        "  q3 = GetPercentil(df, .75)\n",
        "  p90 = GetPercentil(df, .9)\n",
        "  p10 = GetPercentil(df, .1)\n",
        "  return round( (q3-q1)/(2*(p90-p10)), prec )"
      ],
      "execution_count": 31,
      "outputs": []
    },
    {
      "cell_type": "code",
      "metadata": {
        "id": "5K9YGHrKVDnm"
      },
      "source": [
        "# tipo de curva\n",
        "def GetTipoCurva(curtose):\n",
        "  if curtose < 0.263:\n",
        "    return \"Leptocúrtica\"\n",
        "  elif curtose > 0.263:\n",
        "    return \"Platicúrtica\"\n",
        "  else:\n",
        "    return \"Mesocúrtica\""
      ],
      "execution_count": 32,
      "outputs": []
    },
    {
      "cell_type": "markdown",
      "metadata": {
        "id": "4zW5zP9C0jV6"
      },
      "source": [
        "## Entrada de dados"
      ]
    },
    {
      "cell_type": "code",
      "metadata": {
        "id": "KYrU1E6a0lNL"
      },
      "source": [
        "# formato de cada classe: [limite inferior,limite superior, frequência]\n",
        "dados_agrupados = [\n",
        "                   [0,2, 10], [2,4, 20], [4,6, 20], [6,8, 40], [8,10, 10]\n",
        "                  ]"
      ],
      "execution_count": 33,
      "outputs": []
    },
    {
      "cell_type": "markdown",
      "metadata": {
        "id": "QNp7NIilRnaE"
      },
      "source": [
        "## Distribuição de frequência"
      ]
    },
    {
      "cell_type": "code",
      "metadata": {
        "id": "zkv9k39lSclK"
      },
      "source": [
        "# preparar dados não agrupados\n",
        "dados_nao_agrupados = DesagruparDados(dados_agrupados)\n",
        "dados_df = DistrubuicaoFreqDF(dados_agrupados, precisao)\n",
        "\n",
        "dados_df"
      ],
      "execution_count": null,
      "outputs": []
    },
    {
      "cell_type": "markdown",
      "metadata": {
        "id": "bs56SQDRx1WZ"
      },
      "source": [
        "## Medidas de posição"
      ]
    },
    {
      "cell_type": "code",
      "metadata": {
        "id": "liYRUZXnIgm-"
      },
      "source": [
        "# executando os cálculos\n",
        "media = GetMedia(dados_df, precisao)\n",
        "print(\"media:\", media)"
      ],
      "execution_count": null,
      "outputs": []
    },
    {
      "cell_type": "code",
      "metadata": {
        "id": "DJIWv_GPe36e"
      },
      "source": [
        "moda = GetModa(dados_df)\n",
        "print(\"moda:\", moda)"
      ],
      "execution_count": null,
      "outputs": []
    },
    {
      "cell_type": "code",
      "metadata": {
        "id": "tXaUD5H8e45d"
      },
      "source": [
        "mediana = GetPercentil(dados_df, .5, precisao)\n",
        "print(\"mediana:\", mediana)"
      ],
      "execution_count": null,
      "outputs": []
    },
    {
      "cell_type": "code",
      "metadata": {
        "id": "cAqom8Ube58W"
      },
      "source": [
        "q1 = GetPercentil(dados_df, .25, precisao)\n",
        "print(\"Q1:\", q1)"
      ],
      "execution_count": null,
      "outputs": []
    },
    {
      "cell_type": "code",
      "metadata": {
        "id": "B9yC9hEje60O"
      },
      "source": [
        "q3 = GetPercentil(dados_df, .75, precisao)\n",
        "print(\"Q3:\", q3)"
      ],
      "execution_count": null,
      "outputs": []
    },
    {
      "cell_type": "code",
      "metadata": {
        "id": "DgiFA6M3fFGN"
      },
      "source": [
        "p10 = GetPercentil(dados_df, .1, precisao)\n",
        "print(\"P10:\", p10)"
      ],
      "execution_count": null,
      "outputs": []
    },
    {
      "cell_type": "code",
      "metadata": {
        "id": "IyrJE1nvfJQV"
      },
      "source": [
        "p90 = GetPercentil(dados_df, .9, precisao)\n",
        "print(\"P90:\", p90)"
      ],
      "execution_count": null,
      "outputs": []
    },
    {
      "cell_type": "markdown",
      "metadata": {
        "id": "Z-if8IQxxkpP"
      },
      "source": [
        "## Medidas de dispersão"
      ]
    },
    {
      "cell_type": "code",
      "metadata": {
        "id": "TsE5SaVGxmzn"
      },
      "source": [
        "variancia = GetVariancia(dados_df, precisao)\n",
        "print(\"variância:\", variancia)"
      ],
      "execution_count": null,
      "outputs": []
    },
    {
      "cell_type": "code",
      "metadata": {
        "id": "m_u86atsfN92"
      },
      "source": [
        "desvio = GetDesvio(dados_df, precisao)\n",
        "print(\"desvio padrão:\", desvio)"
      ],
      "execution_count": null,
      "outputs": []
    },
    {
      "cell_type": "code",
      "metadata": {
        "id": "4J6et09ufPKd"
      },
      "source": [
        "coeficiente_variacao = GetVariacaoCoef(dados_df, precisao)\n",
        "print(\"coeficiente de variação:\", coeficiente_variacao)"
      ],
      "execution_count": null,
      "outputs": []
    },
    {
      "cell_type": "code",
      "metadata": {
        "id": "YXUqC4YZfQKN"
      },
      "source": [
        "coeficiente_assimetria = GetAssimetriaCoef(dados_df, precisao)\n",
        "print(\"coeficiente de assimetria:\", coeficiente_assimetria)"
      ],
      "execution_count": null,
      "outputs": []
    },
    {
      "cell_type": "code",
      "metadata": {
        "id": "mmrR9m-QfRFF"
      },
      "source": [
        "tipo_assimetria = GetTipoAssimetria(coeficiente_assimetria)\n",
        "print(\"tipo de assimetria:\", tipo_assimetria)"
      ],
      "execution_count": null,
      "outputs": []
    },
    {
      "cell_type": "code",
      "metadata": {
        "id": "Ph_HMjeGfR-V"
      },
      "source": [
        "curtose = GetCurtose(dados_df, precisao)\n",
        "print(\"curtose:\", curtose)"
      ],
      "execution_count": null,
      "outputs": []
    },
    {
      "cell_type": "code",
      "metadata": {
        "id": "-LTfG2HJfS1V"
      },
      "source": [
        "tipo_curva = GetTipoCurva(curtose)\n",
        "print(\"tipo de curva:\", tipo_curva)"
      ],
      "execution_count": null,
      "outputs": []
    }
  ]
}
