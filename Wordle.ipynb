{
  "nbformat": 4,
  "nbformat_minor": 0,
  "metadata": {
    "colab": {
      "name": "Wordle.ipynb",
      "provenance": [],
      "collapsed_sections": [
        "HosAKJE9ZhjD"
      ],
      "authorship_tag": "ABX9TyPgvYJP3A4Zi8UZVyWteZYV",
      "include_colab_link": true
    },
    "kernelspec": {
      "name": "python3",
      "display_name": "Python 3"
    },
    "language_info": {
      "name": "python"
    }
  },
  "cells": [
    {
      "cell_type": "markdown",
      "metadata": {
        "id": "view-in-github",
        "colab_type": "text"
      },
      "source": [
        "<a href=\"https://colab.research.google.com/github/sleiph/exploracao-de-dados/blob/main/Wordle.ipynb\" target=\"_parent\"><img src=\"https://colab.research.google.com/assets/colab-badge.svg\" alt=\"Open In Colab\"/></a>"
      ]
    },
    {
      "cell_type": "markdown",
      "source": [
        "# Wordle\n",
        "\n",
        "essa moda arrebatou meu coração"
      ],
      "metadata": {
        "id": "DjzAOLuKZ2oE"
      }
    },
    {
      "cell_type": "markdown",
      "source": [
        "## Imports"
      ],
      "metadata": {
        "id": "HosAKJE9ZhjD"
      }
    },
    {
      "cell_type": "code",
      "execution_count": null,
      "metadata": {
        "id": "IBqOmqkvoWg-"
      },
      "outputs": [],
      "source": [
        "!apt install -qq enchant\n",
        "!pip install pyenchant\n",
        "\n",
        "import enchant"
      ]
    },
    {
      "cell_type": "markdown",
      "source": [
        "## Funções"
      ],
      "metadata": {
        "id": "FTjGghxRZuOy"
      }
    },
    {
      "cell_type": "code",
      "source": [
        "# se a string contem todas as letras do array 'contem'\n",
        "def ContemLetras(string, arr):\n",
        "  cont = [c for c in arr if(c in string)]\n",
        "  return len(cont) == len(arr)"
      ],
      "metadata": {
        "id": "FDjXK5jZZ8p5"
      },
      "execution_count": 12,
      "outputs": []
    },
    {
      "cell_type": "markdown",
      "source": [
        "## Drive"
      ],
      "metadata": {
        "id": "40Azx9nBZxC5"
      }
    },
    {
      "cell_type": "code",
      "source": [
        "dict = enchant.Dict(\"en_US\")"
      ],
      "metadata": {
        "id": "LwnbnNneoe0E"
      },
      "execution_count": 13,
      "outputs": []
    },
    {
      "cell_type": "code",
      "source": [
        "letras = ['-', '-', '-', '-', '-']\n",
        "\n",
        "contem = []\n",
        "\n",
        "exceto = []"
      ],
      "metadata": {
        "id": "vNb2eGmYl4JW"
      },
      "execution_count": 14,
      "outputs": []
    },
    {
      "cell_type": "code",
      "source": [
        "# pra não ciclar as letras que já tão certas tem q\n",
        "# remover o pedaço do código e identar direito\n",
        "\n",
        "# t.t, tô tentando fazer de um jeito melhor\n",
        "for a in range (97, 123):\n",
        "  letra = chr(a)\n",
        "  if letra in exceto:\n",
        "    continue\n",
        "  letras[0] = letra\n",
        "\n",
        "  for b in range (97, 123):\n",
        "    letra = chr(b)\n",
        "    if letra in exceto:\n",
        "      continue\n",
        "    letras[1] = letra\n",
        "\n",
        "    for c in range (97, 123):\n",
        "      letra = chr(c)\n",
        "      if letra in exceto:\n",
        "        continue\n",
        "      letras[2] = letra\n",
        "\n",
        "      for d in range (97, 123):\n",
        "        letra = chr(d)\n",
        "        if letra in exceto:\n",
        "          continue\n",
        "        letras[3] = letra\n",
        "        \n",
        "        for e in range (97, 123):\n",
        "          letra = chr(e)\n",
        "          if letra in exceto:\n",
        "            continue\n",
        "          letras[4] = letra\n",
        "\n",
        "          # final\n",
        "          palavra = ''.join(letras)\n",
        "          # se nam contem as letras do array 'exceto'\n",
        "          if (dict.check(palavra)):\n",
        "            # se contem todas as letras do array 'contem'\n",
        "            if len(contem) > 0:\n",
        "              if ContemLetras(palavra, contem):\n",
        "                print(palavra)\n",
        "            else:\n",
        "              print(palavra)\n"
      ],
      "metadata": {
        "id": "145D0tA-qwp9"
      },
      "execution_count": null,
      "outputs": []
    }
  ]
}