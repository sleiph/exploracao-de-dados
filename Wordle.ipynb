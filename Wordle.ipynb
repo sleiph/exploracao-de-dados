{
  "nbformat": 4,
  "nbformat_minor": 0,
  "metadata": {
    "colab": {
      "name": "Wordle.ipynb",
      "provenance": [],
      "collapsed_sections": [
        "HosAKJE9ZhjD",
        "FTjGghxRZuOy"
      ],
      "authorship_tag": "ABX9TyP7HaAlAyc88J0LsJ0l0IL+",
      "include_colab_link": true
    },
    "kernelspec": {
      "name": "python3",
      "display_name": "Python 3"
    },
    "language_info": {
      "name": "python"
    }
  },
  "cells": [
    {
      "cell_type": "markdown",
      "metadata": {
        "id": "view-in-github",
        "colab_type": "text"
      },
      "source": [
        "<a href=\"https://colab.research.google.com/github/sleiph/exploracao-de-dados/blob/main/Wordle.ipynb\" target=\"_parent\"><img src=\"https://colab.research.google.com/assets/colab-badge.svg\" alt=\"Open In Colab\"/></a>"
      ]
    },
    {
      "cell_type": "markdown",
      "source": [
        "# Wordle\n",
        "Essa moda arrebatou meu coração\n",
        "\n",
        "Tem que dar play em todas as células, o resultado aparéce na última"
      ],
      "metadata": {
        "id": "DjzAOLuKZ2oE"
      }
    },
    {
      "cell_type": "markdown",
      "source": [
        "## Imports"
      ],
      "metadata": {
        "id": "HosAKJE9ZhjD"
      }
    },
    {
      "cell_type": "code",
      "execution_count": null,
      "metadata": {
        "id": "IBqOmqkvoWg-"
      },
      "outputs": [],
      "source": [
        "!apt install -qq enchant\n",
        "!pip install pyenchant\n",
        "\n",
        "import enchant"
      ]
    },
    {
      "cell_type": "code",
      "source": [
        "# dicionário com todas as palavras da língua inglesa\n",
        "dict = enchant.Dict(\"en_US\")"
      ],
      "metadata": {
        "id": "83lwqNwoxYIX"
      },
      "execution_count": 2,
      "outputs": []
    },
    {
      "cell_type": "markdown",
      "source": [
        "## Funções"
      ],
      "metadata": {
        "id": "FTjGghxRZuOy"
      }
    },
    {
      "cell_type": "code",
      "source": [
        "#pega todas as palavras possíveis\n",
        "def Palavras():\n",
        "  temp = ['-', '-', '-', '-', '-']\n",
        "  lista = []\n",
        "  for a in range (97, 123):\n",
        "    temp[0] = chr(a)\n",
        "\n",
        "    for b in range (97, 123):\n",
        "      temp[1] = chr(b)\n",
        "\n",
        "      for c in range (97, 123):\n",
        "        temp[2] = chr(c)\n",
        "\n",
        "        for d in range (97, 123):\n",
        "          temp[3] = chr(d)\n",
        "          \n",
        "          for e in range (97, 123):\n",
        "            temp[4] = chr(e)\n",
        "\n",
        "            # final\n",
        "            palavra = ''.join(temp)\n",
        "            if (dict.check(palavra)):\n",
        "              lista.append(palavra)\n",
        "  return lista\n",
        "              "
      ],
      "metadata": {
        "id": "_uH1_VGPbpdx"
      },
      "execution_count": 3,
      "outputs": []
    },
    {
      "cell_type": "code",
      "source": [
        "# se as letras tão na ordem certa\n",
        "def PorNaOrdem(string, arr):\n",
        "  for i in range(len(arr)):\n",
        "    if arr[i] == '-':\n",
        "      continue\n",
        "    if arr[i] != string[i]:\n",
        "      return False\n",
        "  return True"
      ],
      "metadata": {
        "id": "9owuSX_35a6s"
      },
      "execution_count": 4,
      "outputs": []
    },
    {
      "cell_type": "code",
      "source": [
        "# se as letras não vão em um lugar\n",
        "def NotNaOrdem(string, arr):\n",
        "  for i in range(len(arr)):\n",
        "    if arr[i] == '-':\n",
        "      continue\n",
        "    if arr[i] == string[i]:\n",
        "      return False\n",
        "  return True"
      ],
      "metadata": {
        "id": "grbz64LlOnE1"
      },
      "execution_count": 11,
      "outputs": []
    },
    {
      "cell_type": "code",
      "source": [
        "# se a string contem todas as letras do array 'contem'\n",
        "def ContemLetras(string, arr):\n",
        "  cont = [c for c in arr if(c in string)]\n",
        "  return len(cont) == len(arr)"
      ],
      "metadata": {
        "id": "FDjXK5jZZ8p5"
      },
      "execution_count": 5,
      "outputs": []
    },
    {
      "cell_type": "code",
      "source": [
        "# se a string contem todas as letras do array 'contem'\n",
        "def ExcetoLetras(string, arr):\n",
        "  cont = [c for c in arr if(c not in string)]\n",
        "  return len(cont) == len(arr)"
      ],
      "metadata": {
        "id": "ec4ZHBRyevl1"
      },
      "execution_count": 6,
      "outputs": []
    },
    {
      "cell_type": "markdown",
      "source": [
        "## Drive"
      ],
      "metadata": {
        "id": "40Azx9nBZxC5"
      }
    },
    {
      "cell_type": "code",
      "source": [
        "# carregar/resetar o dicionário\n",
        "palavras = Palavras()"
      ],
      "metadata": {
        "id": "HmMfFPitcZAS"
      },
      "execution_count": 33,
      "outputs": []
    },
    {
      "cell_type": "code",
      "source": [
        "# adicionar os palpites verdes (letra certa na posição certa)\n",
        "letras_verdes = ['-', '-', '-', '-', '-']\n",
        "palavras = [p for p in palavras if(PorNaOrdem(p, letras_verdes))]\n",
        "\n",
        "# adicionar os palpites amarelos (letra certa na posicao errada)\n",
        "letras_amarelas = [\n",
        "                   ['-', '-', '-', '-', '-'],\n",
        "                   ['-', '-', '-', '-', '-'],\n",
        "                   ['-', '-', '-', '-', '-'],\n",
        "                   ['-', '-', '-', '-', '-'],\n",
        "                   ['-', '-', '-', '-', '-'],\n",
        "                   ['-', '-', '-', '-', '-'],\n",
        "                  ]\n",
        "contem = list(set([l for letra in letras_amarelas for l in letra]))\n",
        "contem.remove('-')\n",
        "palavras = [p for p in palavras if(ContemLetras(p, contem))]\n",
        "for arr in letras_amarelas:\n",
        "  palavras = [p for p in palavras if(NotNaOrdem(p, arr))]\n",
        "\n",
        "# adicionar as letras cinza (que não estão na palavra)\n",
        "letras_cinza = []\n",
        "palavras = [p for p in palavras if(ExcetoLetras(p, letras_cinza))]\n",
        "\n",
        "# exibe as palavras possíveis\n",
        "palavras"
      ],
      "metadata": {
        "id": "vNb2eGmYl4JW"
      },
      "execution_count": null,
      "outputs": []
    }
  ]
}