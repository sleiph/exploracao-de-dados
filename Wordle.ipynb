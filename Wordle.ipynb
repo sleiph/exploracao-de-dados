{
  "nbformat": 4,
  "nbformat_minor": 0,
  "metadata": {
    "colab": {
      "name": "Wordle.ipynb",
      "provenance": [],
      "collapsed_sections": [
        "HosAKJE9ZhjD",
        "FTjGghxRZuOy"
      ],
      "authorship_tag": "ABX9TyNyZtDMANRjq2EXvlEPbMF4",
      "include_colab_link": true
    },
    "kernelspec": {
      "name": "python3",
      "display_name": "Python 3"
    },
    "language_info": {
      "name": "python"
    }
  },
  "cells": [
    {
      "cell_type": "markdown",
      "metadata": {
        "id": "view-in-github",
        "colab_type": "text"
      },
      "source": [
        "<a href=\"https://colab.research.google.com/github/sleiph/exploracao-de-dados/blob/main/Wordle.ipynb\" target=\"_parent\"><img src=\"https://colab.research.google.com/assets/colab-badge.svg\" alt=\"Open In Colab\"/></a>"
      ]
    },
    {
      "cell_type": "markdown",
      "source": [
        "# Wordle\n",
        "Essa moda arrebatou meu coração\n",
        "\n",
        "Tem que dar play em todas as células, o resultado aparéce na última"
      ],
      "metadata": {
        "id": "DjzAOLuKZ2oE"
      }
    },
    {
      "cell_type": "markdown",
      "source": [
        "## Imports"
      ],
      "metadata": {
        "id": "HosAKJE9ZhjD"
      }
    },
    {
      "cell_type": "code",
      "execution_count": null,
      "metadata": {
        "id": "IBqOmqkvoWg-"
      },
      "outputs": [],
      "source": [
        "!apt install -qq enchant\n",
        "!pip install pyenchant\n",
        "\n",
        "import enchant"
      ]
    },
    {
      "cell_type": "code",
      "source": [
        "# dicionário com todas as palavras da língua inglesa\n",
        "dict = enchant.Dict(\"en_US\")"
      ],
      "metadata": {
        "id": "83lwqNwoxYIX"
      },
      "execution_count": 2,
      "outputs": []
    },
    {
      "cell_type": "markdown",
      "source": [
        "## Funções"
      ],
      "metadata": {
        "id": "FTjGghxRZuOy"
      }
    },
    {
      "cell_type": "code",
      "source": [
        "#pega todas as palavras possíveis\n",
        "def Palavras():\n",
        "  temp = ['-', '-', '-', '-', '-']\n",
        "  lista = []\n",
        "  for a in range (97, 123):\n",
        "    temp[0] = chr(a)\n",
        "\n",
        "    for b in range (97, 123):\n",
        "      temp[1] = chr(b)\n",
        "\n",
        "      for c in range (97, 123):\n",
        "        temp[2] = chr(c)\n",
        "\n",
        "        for d in range (97, 123):\n",
        "          temp[3] = chr(d)\n",
        "          \n",
        "          for e in range (97, 123):\n",
        "            temp[4] = chr(e)\n",
        "\n",
        "            # final\n",
        "            palavra = ''.join(temp)\n",
        "            if (dict.check(palavra)):\n",
        "              lista.append(palavra)\n",
        "  return lista\n",
        "              "
      ],
      "metadata": {
        "id": "_uH1_VGPbpdx"
      },
      "execution_count": 3,
      "outputs": []
    },
    {
      "cell_type": "code",
      "source": [
        "# se as letras tão na ordem certa\n",
        "def PorNaOrdem(string, arr_arr):\n",
        "  for arr in arr_arr:\n",
        "    if not string[arr[1]] == arr[0]:\n",
        "      return False\n",
        "  return True"
      ],
      "metadata": {
        "id": "9owuSX_35a6s"
      },
      "execution_count": 48,
      "outputs": []
    },
    {
      "cell_type": "code",
      "source": [
        "# se as letras não vão em um lugar\n",
        "def NotNaOrdem(string, arr_arr):\n",
        "  for arr in arr_arr:\n",
        "    if string[arr[1]] == arr[0]:\n",
        "      return False\n",
        "  return True"
      ],
      "metadata": {
        "id": "grbz64LlOnE1"
      },
      "execution_count": 39,
      "outputs": []
    },
    {
      "cell_type": "code",
      "source": [
        "# se a string contem todas as letras do array 'contem'\n",
        "def ContemLetras(string, arr):\n",
        "  cont = [c for c in arr if(c in string)]\n",
        "  return len(cont) == len(arr)"
      ],
      "metadata": {
        "id": "FDjXK5jZZ8p5"
      },
      "execution_count": 6,
      "outputs": []
    },
    {
      "cell_type": "code",
      "source": [
        "# se a string contem todas as letras do array 'contem'\n",
        "def ExcetoLetras(string, arr):\n",
        "  cont = [c for c in arr if(c not in string)]\n",
        "  return len(cont) == len(arr)"
      ],
      "metadata": {
        "id": "ec4ZHBRyevl1"
      },
      "execution_count": 33,
      "outputs": []
    },
    {
      "cell_type": "code",
      "source": [
        "def Palpitar(arr):\n",
        "  naotem = []\n",
        "  contem = []\n",
        "  forad_ordem = []\n",
        "  na_ordem = []\n",
        "\n",
        "  for palpite in arr:\n",
        "    for i in range(len(palpite[0])):\n",
        "      if palpite[0][i] == '-':\n",
        "        continue\n",
        "      if palpite[1][i] == 'v':\n",
        "        na_ordem.append([palpite[0][i], i])\n",
        "      elif palpite[1][i] == 'a':\n",
        "        forad_ordem.append([palpite[0][i], i])\n",
        "        contem.append(palpite[0][i])\n",
        "      else:\n",
        "        naotem.append(palpite[0][i])\n",
        "  return [naotem, contem, forad_ordem, na_ordem]"
      ],
      "metadata": {
        "id": "9dp9H5UEaPAS"
      },
      "execution_count": 49,
      "outputs": []
    },
    {
      "cell_type": "markdown",
      "source": [
        "## Drive"
      ],
      "metadata": {
        "id": "40Azx9nBZxC5"
      }
    },
    {
      "cell_type": "code",
      "source": [
        "# carregar/resetar o dicionário\n",
        "palavras = Palavras()"
      ],
      "metadata": {
        "id": "HmMfFPitcZAS"
      },
      "execution_count": 50,
      "outputs": []
    },
    {
      "cell_type": "code",
      "source": [
        "# preencher com a palavras testada do lado esquerdo\n",
        "# do lado direito vai o resultado de cada letra\n",
        "  ## c pra cinza (não tem a letra)\n",
        "  ## a pra amarelo (tem a letra em outra posição)\n",
        "  ## v pra verde (tem a letra nessa posição)\n",
        "palpites = [\n",
        "            ('-----','ccccc'),\n",
        "            ('-----','ccccc'),\n",
        "            ('-----','ccccc'),\n",
        "            ('-----','ccccc'),\n",
        "            ('-----','ccccc'),\n",
        "            ('-----','ccccc')\n",
        "]\n",
        "\n",
        "resultados = Palpitar(palpites)\n",
        "\n",
        "palavras = [p for p in palavras if(ExcetoLetras(p, resultados[0]))]\n",
        "palavras = [p for p in palavras if(ContemLetras(p, resultados[1]))]\n",
        "palavras = [p for p in palavras if(NotNaOrdem(p, resultados[2]))]\n",
        "palavras = [p for p in palavras if(PorNaOrdem(p, resultados[3]))]\n",
        "\n",
        "palavras"
      ],
      "metadata": {
        "id": "B6-Hwqn0SPBw"
      },
      "execution_count": null,
      "outputs": []
    }
  ]
}