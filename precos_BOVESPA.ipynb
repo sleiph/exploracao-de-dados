{
  "nbformat": 4,
  "nbformat_minor": 0,
  "metadata": {
    "colab": {
      "name": "Preços BOVESPA.ipynb",
      "provenance": [],
      "collapsed_sections": [],
      "mount_file_id": "1bzJC8ce8vttaLLn8k_R1rFTzEwSzNfyj",
      "authorship_tag": "ABX9TyM4GPu4zHXx3DFONfllajx1",
      "include_colab_link": true
    },
    "kernelspec": {
      "name": "python3",
      "display_name": "Python 3"
    }
  },
  "cells": [
    {
      "cell_type": "markdown",
      "metadata": {
        "id": "view-in-github",
        "colab_type": "text"
      },
      "source": [
        "<a href=\"https://colab.research.google.com/github/sleiph/exploracao-de-dados/blob/main/Pre%C3%A7os_BOVESPA.ipynb\" target=\"_parent\"><img src=\"https://colab.research.google.com/assets/colab-badge.svg\" alt=\"Open In Colab\"/></a>"
      ]
    },
    {
      "cell_type": "markdown",
      "metadata": {
        "id": "afC6SVQdFo62"
      },
      "source": [
        "# Preço das ações BOVESPA - yahoo finance"
      ]
    },
    {
      "cell_type": "code",
      "metadata": {
        "id": "0N5htKC1JKMq"
      },
      "source": [
        "# imports\r\n",
        "import pandas as pd\r\n",
        "import numpy as np\r\n",
        "import matplotlib.pyplot as plt\r\n",
        "import seaborn as sns\r\n",
        "\r\n",
        "## lendo os dados do yahoo\r\n",
        "from pandas_datareader import data as web"
      ],
      "execution_count": 32,
      "outputs": []
    },
    {
      "cell_type": "markdown",
      "metadata": {
        "id": "RHXSZ3NQr9Yi"
      },
      "source": [
        "## entrada de dados"
      ]
    },
    {
      "cell_type": "code",
      "metadata": {
        "id": "OImW7KSnOSrf"
      },
      "source": [
        "# nome do fundo estudado.SA : nome a ser exibido no dataFrame\r\n",
        "fundos = {\r\n",
        "    'XPCI11.SA': 'XP Credito Imobiliario', 'XPLG11.SA': 'XP LOG', 'XPML11.SA': 'XP MALLS',\r\n",
        "    'GRLV11.SA': 'CSHG GR Louveira (HF)', 'HGRU11.SA': 'CSHG Renda Urbana',\r\n",
        "    'VILG11.SA': 'Vinci Logistica', 'VINO11.SA': 'Vinci Offices',\r\n",
        "    'HCTR11.SA': 'Hectare Ce',\r\n",
        "    'KNIP11.SA': 'Kinea Renda Imobiliária'\r\n",
        "}\r\n",
        "\r\n",
        "# data pro começo dos dados mm/dd/yyyy\r\n",
        "data_inicio = '01/06/2020'\r\n",
        "\r\n",
        "# método de ajuste\r\n",
        "ajuste = 'Adj Close'"
      ],
      "execution_count": 33,
      "outputs": []
    },
    {
      "cell_type": "markdown",
      "metadata": {
        "id": "vHCM7xDxsHag"
      },
      "source": [
        "## populando o dataFrame"
      ]
    },
    {
      "cell_type": "code",
      "metadata": {
        "id": "l9XjS-gAC_Nw"
      },
      "source": [
        "# https://medium.com/geleia/an%C3%A1lise-de-a%C3%A7%C3%B5es-com-python-7f6624939fb\r\n",
        "df = pd.DataFrame()\r\n",
        "\r\n",
        "for k, v in fundos.items():\r\n",
        "  try:\r\n",
        "    df[v] = web.get_data_yahoo(k, data_inicio)[ajuste]\r\n",
        "  except:\r\n",
        "    print(\"erro no fundo {}\".format(v))\r\n",
        "\r\n",
        "## adicionando o índice bovespa\r\n",
        "df['IBovespa'] = web.get_data_yahoo('^BVSP', data_inicio)[ajuste]\r\n",
        "df['IBovespa'] = df['IBovespa']/1000\r\n",
        "\r\n",
        "## Adicionando as datas como colunas\r\n",
        "df.reset_index(inplace = True)\r\n",
        "df.rename(columns ={'Date':'Data'},inplace = True)"
      ],
      "execution_count": 34,
      "outputs": []
    },
    {
      "cell_type": "code",
      "metadata": {
        "id": "Dy7kD9LfOmuP"
      },
      "source": [
        "# primeiros 5 dias dos dados\r\n",
        "df.head()"
      ],
      "execution_count": null,
      "outputs": []
    },
    {
      "cell_type": "code",
      "metadata": {
        "id": "DKYZNDtvRLdU"
      },
      "source": [
        "# últimos 5 dias dos dados\r\n",
        "df[len(df.index)-5:].head(5)"
      ],
      "execution_count": null,
      "outputs": []
    },
    {
      "cell_type": "markdown",
      "metadata": {
        "id": "xpbthZ6xPAvC"
      },
      "source": [
        "## Gráficos"
      ]
    },
    {
      "cell_type": "code",
      "metadata": {
        "id": "b1HZLKIMRCpz"
      },
      "source": [
        "# Cotação x tempo - FIIs\r\n",
        "tickers = list(df.drop(['Data'], axis = 1).columns)\r\n",
        "plt.figure(figsize=(16,6))\r\n",
        "\r\n",
        "for i in tickers:\r\n",
        "  plt.plot(df['Data'], df[i])\r\n",
        "plt.legend(tickers)\r\n",
        "plt.grid()\r\n",
        "plt.title(\"Cotação x tempo\", fontsize = 25)\r\n",
        "plt.show()"
      ],
      "execution_count": null,
      "outputs": []
    },
    {
      "cell_type": "code",
      "metadata": {
        "id": "AVRhvMKboH5U"
      },
      "source": [
        "# médias móveis trimestrais e anuais da XP Credito Imobiliario\r\n",
        "plt.figure(figsize=(16,6))\r\n",
        "plt.plot(df['Data'], df['XP Credito Imobiliario'].rolling(window = 90).mean())\r\n",
        "plt.plot(df['Data'], df['XP Credito Imobiliario'], alpha = 0.8)\r\n",
        "plt.plot(df['Data'], df['XP Credito Imobiliario'].rolling(window = 365).mean())\r\n",
        "plt.grid()\r\n",
        "plt.title('Cotações diárias e médias móveis XP Credito Imobiliario', fontsize = 15)\r\n",
        "plt.legend(['Média móvel trimestral','Cotação diária','Média móvel anual'])\r\n",
        "plt.show()"
      ],
      "execution_count": null,
      "outputs": []
    },
    {
      "cell_type": "code",
      "metadata": {
        "id": "-qrX4nFOqQzT"
      },
      "source": [
        "# heatmap das fiis\r\n",
        "plt.figure(figsize=(16, 8))\r\n",
        "sns.heatmap(df.corr(), annot = True)\r\n",
        "plt.show()"
      ],
      "execution_count": null,
      "outputs": []
    },
    {
      "cell_type": "code",
      "metadata": {
        "id": "QSrFZG55nhu0"
      },
      "source": [
        "# retorno diário dos fundos\r\n",
        "retornos = pd.DataFrame()\r\n",
        "for i in tickers:\r\n",
        "  retornos[i] = df[i].pct_change()\r\n",
        "retornos['Data'] = df['Data']\r\n",
        "retornos.describe()"
      ],
      "execution_count": null,
      "outputs": []
    },
    {
      "cell_type": "code",
      "metadata": {
        "id": "MN-IA3n-tdl8"
      },
      "source": [
        "# pairplot, sei lá pra que serve isso\r\n",
        "sns.pairplot(retornos)\r\n",
        "plt.show()"
      ],
      "execution_count": null,
      "outputs": []
    },
    {
      "cell_type": "code",
      "metadata": {
        "id": "tr9ZdQTwupoz"
      },
      "source": [
        "# histplot da XP Credito Imobiliario\r\n",
        "sns.histplot(retornos['XP Credito Imobiliario'].dropna())"
      ],
      "execution_count": null,
      "outputs": []
    },
    {
      "cell_type": "code",
      "metadata": {
        "id": "L5RtgoLgvSPt"
      },
      "source": [
        "# retorno acumulado dos fundos\r\n",
        "retornos_soma = pd.DataFrame()\r\n",
        "\r\n",
        "for ticker in tickers:\r\n",
        "    retornos_soma[ticker] = (retornos[ticker]+1).cumprod()\r\n",
        "retornos_soma['Data'] = retornos['Data']\r\n",
        "\r\n",
        "plt.figure(figsize=(16,6))\r\n",
        "plt.plot(retornos_soma['Data'], retornos_soma.drop(['Data'], axis = 1), alpha = 0.9)\r\n",
        "plt.legend(tickers)\r\n",
        "plt.title(\"Retorno x tempo\", fontsize = 15)\r\n",
        "plt.grid()\r\n",
        "plt.show()"
      ],
      "execution_count": null,
      "outputs": []
    }
  ]
}