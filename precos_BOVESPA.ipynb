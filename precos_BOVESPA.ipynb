{
  "nbformat": 4,
  "nbformat_minor": 0,
  "metadata": {
    "colab": {
      "name": "Preços BOVESPA.ipynb",
      "provenance": [],
      "collapsed_sections": [],
      "mount_file_id": "1bzJC8ce8vttaLLn8k_R1rFTzEwSzNfyj",
      "authorship_tag": "ABX9TyMFjgV3EddOtY3vN+ivqo4B",
      "include_colab_link": true
    },
    "kernelspec": {
      "name": "python3",
      "display_name": "Python 3"
    }
  },
  "cells": [
    {
      "cell_type": "markdown",
      "metadata": {
        "id": "view-in-github",
        "colab_type": "text"
      },
      "source": [
        "<a href=\"https://colab.research.google.com/github/sleiph/exploracao-de-dados/blob/main/precos_BOVESPA.ipynb\" target=\"_parent\"><img src=\"https://colab.research.google.com/assets/colab-badge.svg\" alt=\"Open In Colab\"/></a>"
      ]
    },
    {
      "cell_type": "markdown",
      "metadata": {
        "id": "afC6SVQdFo62"
      },
      "source": [
        "# Preço das ações BOVESPA - yahoo finance"
      ]
    },
    {
      "cell_type": "code",
      "metadata": {
        "id": "0N5htKC1JKMq"
      },
      "source": [
        "# imports\n",
        "import pandas as pd\n",
        "import numpy as np\n",
        "import matplotlib.pyplot as plt\n",
        "import seaborn as sns\n",
        "\n",
        "from datetime import datetime"
      ],
      "execution_count": 1,
      "outputs": []
    },
    {
      "cell_type": "markdown",
      "metadata": {
        "id": "RHXSZ3NQr9Yi"
      },
      "source": [
        "## entrada de dados"
      ]
    },
    {
      "cell_type": "code",
      "metadata": {
        "id": "OImW7KSnOSrf"
      },
      "source": [
        "# nome do fundo estudado.SA : nome a ser exibido no dataFrame\n",
        "fundos = {\n",
        "    'XPCI11.SA': 'XP Credito Imobiliario', 'XPLG11.SA': 'XP LOG', 'XPML11.SA': 'XP MALLS',\n",
        "    'GRLV11.SA': 'CSHG GR Louveira (HF)', 'HGRU11.SA': 'CSHG Renda Urbana',\n",
        "    'VILG11.SA': 'Vinci Logistica', 'VINO11.SA': 'Vinci Offices',\n",
        "    'HCTR11.SA': 'Hectare Ce',\n",
        "    'KNIP11.SA': 'Kinea Renda Imobiliária'\n",
        "}\n",
        "\n",
        "# data pro começo dos dados YYYY-mm-dd\n",
        "data_inicio = '2007-06-01'\n",
        "\n",
        "# método de ajuste\n",
        "ajuste = 'Adj Close'"
      ],
      "execution_count": 2,
      "outputs": []
    },
    {
      "cell_type": "markdown",
      "metadata": {
        "id": "vHCM7xDxsHag"
      },
      "source": [
        "## populando o dataFrame"
      ]
    },
    {
      "cell_type": "code",
      "source": [
        "# pegando os dados da API\n",
        "def getEstatisticas(bvmf, comeco, fim):\n",
        "  url = 'https://query1.finance.yahoo.com/v7/finance/download/' + bvmf + '?period1=' + str(comeco) + '&period2=' + str(fim) + '&interval=1d&events=history'\n",
        "  return pd.read_csv(url)"
      ],
      "metadata": {
        "id": "FIYDXE33nXWS"
      },
      "execution_count": 3,
      "outputs": []
    },
    {
      "cell_type": "code",
      "source": [
        "# converte pra unix timestamp.\n",
        "inicio = pd.to_datetime([data_inicio]).astype(int)[0]//10**9\n",
        "# pega da data de recorte até o dia de hoje \n",
        "final = pd.to_datetime([datetime.today().strftime('%Y-%m-%d')]).astype(int)[0]//10**9"
      ],
      "metadata": {
        "id": "3GnhfAR4msFs"
      },
      "execution_count": null,
      "outputs": []
    },
    {
      "cell_type": "code",
      "metadata": {
        "id": "l9XjS-gAC_Nw"
      },
      "source": [
        "df = getEstatisticas('%5EBVSP', inicio, final)[['Date', ajuste]]\n",
        "\n",
        "## adicionando o índice bovespa\n",
        "df.rename(columns = {'Adj Close': 'IBovespa'}, inplace = True)\n",
        "df['IBovespa'] = df['IBovespa']/1000\n",
        "\n",
        "for k, v in fundos.items():\n",
        "  try:\n",
        "    df_temp = getEstatisticas(k, inicio, final)[['Date', ajuste]]\n",
        "    df_temp.rename(columns = {ajuste: v}, inplace = True)\n",
        "    df = pd.merge(df, df_temp, how='left', on='Date')\n",
        "  except BaseException as err:\n",
        "    print(\"erro no fundo {0}: {1}\".format(v, err))\n",
        "\n",
        "## Adicionando as datas como colunas\n",
        "df.rename(columns = {'Date': 'Data'}, inplace = True)\n",
        "df['Data'] = pd.to_datetime(df['Data'], format='%Y/%m/%d')"
      ],
      "execution_count": 6,
      "outputs": []
    },
    {
      "cell_type": "code",
      "metadata": {
        "id": "Dy7kD9LfOmuP"
      },
      "source": [
        "# primeiros 5 dias dos dados\n",
        "df.head()"
      ],
      "execution_count": null,
      "outputs": []
    },
    {
      "cell_type": "code",
      "metadata": {
        "id": "DKYZNDtvRLdU"
      },
      "source": [
        "# últimos 5 dias dos dados\n",
        "df[len(df.index)-5:].head(5)"
      ],
      "execution_count": null,
      "outputs": []
    },
    {
      "cell_type": "markdown",
      "metadata": {
        "id": "xpbthZ6xPAvC"
      },
      "source": [
        "## Gráficos"
      ]
    },
    {
      "cell_type": "code",
      "metadata": {
        "id": "b1HZLKIMRCpz"
      },
      "source": [
        "# Cotação x tempo - FIIs\n",
        "tickers = list(df.drop(['Data'], axis = 1).columns)\n",
        "plt.figure(figsize=(16,6))\n",
        "\n",
        "for i in tickers:\n",
        "  plt.plot(df['Data'], df[i])\n",
        "plt.legend(tickers)\n",
        "plt.grid()\n",
        "plt.title(\"Cotação x tempo\", fontsize = 25)\n",
        "plt.show()"
      ],
      "execution_count": null,
      "outputs": []
    },
    {
      "cell_type": "code",
      "metadata": {
        "id": "AVRhvMKboH5U"
      },
      "source": [
        "# médias móveis trimestrais e anuais da XP Credito Imobiliario\n",
        "plt.figure(figsize=(16,6))\n",
        "plt.plot(df['Data'], df['XP Credito Imobiliario'].rolling(window = 90).mean())\n",
        "plt.plot(df['Data'], df['XP Credito Imobiliario'], alpha = 0.8)\n",
        "plt.plot(df['Data'], df['XP Credito Imobiliario'].rolling(window = 365).mean())\n",
        "plt.grid()\n",
        "plt.title('Cotações diárias e médias móveis XP Credito Imobiliario', fontsize = 15)\n",
        "plt.legend(['Média móvel trimestral','Cotação diária','Média móvel anual'])\n",
        "plt.show()"
      ],
      "execution_count": null,
      "outputs": []
    },
    {
      "cell_type": "code",
      "metadata": {
        "id": "-qrX4nFOqQzT"
      },
      "source": [
        "# heatmap das fiis\n",
        "plt.figure(figsize=(16, 8))\n",
        "sns.heatmap(df.corr(), annot = True)\n",
        "plt.show()"
      ],
      "execution_count": null,
      "outputs": []
    },
    {
      "cell_type": "code",
      "metadata": {
        "id": "QSrFZG55nhu0"
      },
      "source": [
        "# retorno diário dos fundos\n",
        "retornos = pd.DataFrame()\n",
        "for i in tickers:\n",
        "  retornos[i] = df[i].pct_change()\n",
        "retornos['Data'] = df['Data']\n",
        "retornos.describe()"
      ],
      "execution_count": null,
      "outputs": []
    },
    {
      "cell_type": "code",
      "metadata": {
        "id": "MN-IA3n-tdl8"
      },
      "source": [
        "# pairplot, sei lá pra que serve isso\n",
        "sns.pairplot(retornos)\n",
        "plt.show()"
      ],
      "execution_count": null,
      "outputs": []
    },
    {
      "cell_type": "code",
      "metadata": {
        "id": "tr9ZdQTwupoz"
      },
      "source": [
        "# histplot da XP Credito Imobiliario\n",
        "sns.histplot(retornos['XP Credito Imobiliario'].dropna())"
      ],
      "execution_count": null,
      "outputs": []
    },
    {
      "cell_type": "code",
      "metadata": {
        "id": "L5RtgoLgvSPt"
      },
      "source": [
        "# retorno acumulado dos fundos\n",
        "retornos_soma = pd.DataFrame()\n",
        "\n",
        "for ticker in tickers:\n",
        "    retornos_soma[ticker] = (retornos[ticker]+1).cumprod()\n",
        "retornos_soma['Data'] = retornos['Data']\n",
        "\n",
        "plt.figure(figsize=(16,6))\n",
        "plt.plot(retornos_soma['Data'], retornos_soma.drop(['Data'], axis = 1), alpha = 0.9)\n",
        "plt.legend(tickers)\n",
        "plt.title(\"Retorno x tempo\", fontsize = 15)\n",
        "plt.grid()\n",
        "plt.show()"
      ],
      "execution_count": null,
      "outputs": []
    }
  ]
}